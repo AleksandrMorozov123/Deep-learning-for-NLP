{
 "cells": [
  {
   "cell_type": "code",
   "execution_count": 1,
   "id": "d1997197",
   "metadata": {
    "_cell_guid": "b1076dfc-b9ad-4769-8c92-a6c4dae69d19",
    "_uuid": "8f2839f25d086af736a60e9eeb907d3b93b6e0e5",
    "execution": {
     "iopub.execute_input": "2023-12-03T16:38:19.178912Z",
     "iopub.status.busy": "2023-12-03T16:38:19.178207Z",
     "iopub.status.idle": "2023-12-03T16:38:19.535801Z",
     "shell.execute_reply": "2023-12-03T16:38:19.534854Z"
    },
    "papermill": {
     "duration": 0.364805,
     "end_time": "2023-12-03T16:38:19.538314",
     "exception": false,
     "start_time": "2023-12-03T16:38:19.173509",
     "status": "completed"
    },
    "tags": []
   },
   "outputs": [],
   "source": [
    "# This Python 3 environment comes with many helpful analytics libraries installed\n",
    "# It is defined by the kaggle/python Docker image: https://github.com/kaggle/docker-python\n",
    "# For example, here's several helpful packages to load\n",
    "\n",
    "import numpy as np # linear algebra\n",
    "import pandas as pd # data processing, CSV file I/O (e.g. pd.read_csv)\n",
    "\n",
    "# Input data files are available in the read-only \"../input/\" directory\n",
    "# For example, running this (by clicking run or pressing Shift+Enter) will list all files under the input directory\n",
    "\n",
    "import os\n",
    "for dirname, _, filenames in os.walk('/kaggle/input'):\n",
    "    for filename in filenames:\n",
    "        print(os.path.join(dirname, filename))\n",
    "\n",
    "# You can write up to 20GB to the current directory (/kaggle/working/) that gets preserved as output when you create a version using \"Save & Run All\" \n",
    "# You can also write temporary files to /kaggle/temp/, but they won't be saved outside of the current session"
   ]
  },
  {
   "cell_type": "markdown",
   "id": "8098c6ae",
   "metadata": {
    "papermill": {
     "duration": 0.003754,
     "end_time": "2023-12-03T16:38:19.544670",
     "exception": false,
     "start_time": "2023-12-03T16:38:19.540916",
     "status": "completed"
    },
    "tags": []
   },
   "source": [
    "**Begin with foundations - tensors**"
   ]
  },
  {
   "cell_type": "code",
   "execution_count": 2,
   "id": "33897162",
   "metadata": {
    "execution": {
     "iopub.execute_input": "2023-12-03T16:38:19.550440Z",
     "iopub.status.busy": "2023-12-03T16:38:19.550027Z",
     "iopub.status.idle": "2023-12-03T16:38:22.392994Z",
     "shell.execute_reply": "2023-12-03T16:38:22.391930Z"
    },
    "papermill": {
     "duration": 2.848677,
     "end_time": "2023-12-03T16:38:22.395518",
     "exception": false,
     "start_time": "2023-12-03T16:38:19.546841",
     "status": "completed"
    },
    "tags": []
   },
   "outputs": [
    {
     "name": "stdout",
     "output_type": "stream",
     "text": [
      "tensor([[ 8, 10, 12],\n",
      "        [14, 16, 18]])\n"
     ]
    }
   ],
   "source": [
    "import torch\n",
    "x = torch.tensor ([[1,2,3], [4,5,6]])\n",
    "y = torch.tensor ([[7,8,9], [10,11,12]])\n",
    "z = x + y\n",
    "print (z)"
   ]
  },
  {
   "cell_type": "markdown",
   "id": "8192284a",
   "metadata": {
    "papermill": {
     "duration": 0.002118,
     "end_time": "2023-12-03T16:38:22.400290",
     "exception": false,
     "start_time": "2023-12-03T16:38:22.398172",
     "status": "completed"
    },
    "tags": []
   },
   "source": [
    "**Create the tensors**"
   ]
  },
  {
   "cell_type": "code",
   "execution_count": 3,
   "id": "7be68be3",
   "metadata": {
    "execution": {
     "iopub.execute_input": "2023-12-03T16:38:22.406709Z",
     "iopub.status.busy": "2023-12-03T16:38:22.406204Z",
     "iopub.status.idle": "2023-12-03T16:38:22.438799Z",
     "shell.execute_reply": "2023-12-03T16:38:22.437572Z"
    },
    "papermill": {
     "duration": 0.038079,
     "end_time": "2023-12-03T16:38:22.440709",
     "exception": false,
     "start_time": "2023-12-03T16:38:22.402630",
     "status": "completed"
    },
    "tags": []
   },
   "outputs": [
    {
     "name": "stdout",
     "output_type": "stream",
     "text": [
      "torch.float32\n"
     ]
    }
   ],
   "source": [
    "import numpy \n",
    "\n",
    "# created from preexisting arrays\n",
    "w = torch.tensor ([1,2,3])                 # from a list\n",
    "w = torch.tensor ([1,2,3])                 # from a tuple\n",
    "w = torch.tensor (numpy.array ([1,2,3]))   # from a numpy.array\n",
    "\n",
    "# initialized by size\n",
    "w = torch.empty (100, 200)                 # uninitialized, element values are not predictable\n",
    "w = torch.zeros (100, 200)                 # all elements initialized with 0.0\n",
    "w = torch.ones (100, 200)                  # all elements initialized with 1.0\n",
    "\n",
    "# initialized by size with random values\n",
    "w = torch.rand (100, 200)\n",
    "w = torch.randn (100, 200)\n",
    "w = torch.randint (5, 10, (100, 200))\n",
    "\n",
    "# initialized to have the same size, data type and device as another tensor\n",
    "x = torch.empty_like (w)\n",
    "\n",
    "# specify the data type at creation using dtype\n",
    "w = torch.tensor ([1,2,3], dtype = torch.float32)\n",
    "\n",
    "# use the casting method to cast to a new data type\n",
    "w.int ()        # w remains a float 32 after the cast\n",
    "w = w.int ()    # w changes to an int32 after the cast\n",
    "\n",
    "# use the to() method to cast to a new type\n",
    "w = w.to (torch.float64)\n",
    "w = w.to (dtype = torch.float64)\n",
    "\n",
    "# Python automatucally converts data types during operations\n",
    "x = torch.tensor ([1,2,3], dtype = torch.int32)\n",
    "y = torch.tensor ([1,2,3], dtype = torch.float32)\n",
    "z = x + y\n",
    "print (z.dtype)"
   ]
  }
 ],
 "metadata": {
  "kaggle": {
   "accelerator": "none",
   "dataSources": [],
   "dockerImageVersionId": 30587,
   "isGpuEnabled": false,
   "isInternetEnabled": true,
   "language": "python",
   "sourceType": "notebook"
  },
  "kernelspec": {
   "display_name": "Python 3",
   "language": "python",
   "name": "python3"
  },
  "language_info": {
   "codemirror_mode": {
    "name": "ipython",
    "version": 3
   },
   "file_extension": ".py",
   "mimetype": "text/x-python",
   "name": "python",
   "nbconvert_exporter": "python",
   "pygments_lexer": "ipython3",
   "version": "3.10.12"
  },
  "papermill": {
   "default_parameters": {},
   "duration": 6.935796,
   "end_time": "2023-12-03T16:38:23.163278",
   "environment_variables": {},
   "exception": null,
   "input_path": "__notebook__.ipynb",
   "output_path": "__notebook__.ipynb",
   "parameters": {},
   "start_time": "2023-12-03T16:38:16.227482",
   "version": "2.4.0"
  }
 },
 "nbformat": 4,
 "nbformat_minor": 5
}
